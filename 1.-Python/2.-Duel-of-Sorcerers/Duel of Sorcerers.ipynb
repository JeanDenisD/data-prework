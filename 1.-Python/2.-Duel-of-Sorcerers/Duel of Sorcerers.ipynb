{
 "cells": [
  {
   "cell_type": "code",
   "execution_count": 65,
   "metadata": {},
   "outputs": [],
   "source": [
    "gandalf = [10, 11, 13, 30, 22, 11, 10, 33, 22, 22]\n",
    "saruman = [23, 66, 12, 43, 12, 10, 44, 23, 12, 17]\n",
    "spell = 0"
   ]
  },
  {
   "cell_type": "code",
   "execution_count": 66,
   "metadata": {},
   "outputs": [],
   "source": [
    "gandalf_wins = 0\n",
    "saruman_wins = 0"
   ]
  },
  {
   "cell_type": "code",
   "execution_count": 67,
   "metadata": {},
   "outputs": [
    {
     "name": "stdout",
     "output_type": "stream",
     "text": [
      "8\n",
      "2\n",
      "Something is wrong in my code cause gandalf won 6 times and saruman 4, can't fix it\n"
     ]
    }
   ],
   "source": [
    "gandalf = [10, 11, 13, 30, 22, 11, 10, 33, 22, 22]\n",
    "saruman = [23, 66, 12, 43, 12, 10, 44, 23, 12, 17]\n",
    "spells = 0\n",
    "gandalf_wins = 0 \n",
    "saruman_wins = 0\n",
    "\n",
    "for win in gandalf:\n",
    "    if gandalf[spells] > saruman[spells]:\n",
    "        gandalf_wins += 1\n",
    "    else:\n",
    "        saruman_wins += 1\n",
    "        spells += 1\n",
    "        \n",
    "print(gandalf_wins)\n",
    "print(saruman_wins)\n",
    "print(\"Something is wrong in my code cause gandalf won 6 times and saruman 4, can't fix it\")"
   ]
  },
  {
   "cell_type": "code",
   "execution_count": 69,
   "metadata": {},
   "outputs": [
    {
     "name": "stdout",
     "output_type": "stream",
     "text": [
      "gandalf wins\n"
     ]
    }
   ],
   "source": [
    "if gandalf_wins == saruman_wins:\n",
    "    print('tie')\n",
    "elif gandalf_wins > saruman_wins:\n",
    "    print('gandalf wins')\n",
    "else:\n",
    "    print('saruman wins')"
   ]
  },
  {
   "cell_type": "code",
   "execution_count": 70,
   "metadata": {},
   "outputs": [],
   "source": [
    "POWER = {\n",
    "    'Fireball': 50, \n",
    "    'Lightning bolt': 40, \n",
    "    'Magic arrow': 10, \n",
    "    'Black Tentacles': 25, \n",
    "    'Contagion': 45\n",
    "}\n",
    "\n",
    "gandalf = ['Fireball', 'Lightning bolt', 'Lightning bolt', 'Magic arrow', 'Fireball', \n",
    "           'Magic arrow', 'Lightning bolt', 'Fireball', 'Fireball', 'Fireball']\n",
    "saruman = ['Contagion', 'Contagion', 'Black Tentacles', 'Fireball', 'Black Tentacles', \n",
    "           'Lightning bolt', 'Magic arrow', 'Contagion', 'Magic arrow', 'Magic arrow']\n",
    "spells = 0"
   ]
  },
  {
   "cell_type": "code",
   "execution_count": 71,
   "metadata": {},
   "outputs": [],
   "source": [
    "gandalf_wins = 0 \n",
    "saruman_wins = 0"
   ]
  },
  {
   "cell_type": "code",
   "execution_count": 72,
   "metadata": {},
   "outputs": [],
   "source": [
    "gandalf_power = []\n",
    "saruman_power = []"
   ]
  },
  {
   "cell_type": "code",
   "execution_count": 91,
   "metadata": {},
   "outputs": [
    {
     "name": "stdout",
     "output_type": "stream",
     "text": [
      "[1, 0, 1, 0, 1, 0, 1, 1, 1, 1]\n",
      "[0, 1, 0, 1, 0, 1, 0, 0, 0, 0]\n"
     ]
    }
   ],
   "source": [
    "POWER = {\n",
    "    'Fireball': 50, \n",
    "    'Lightning bolt': 40, \n",
    "    'Magic arrow': 10, \n",
    "    'Black Tentacles': 25, \n",
    "    'Contagion': 45\n",
    "}\n",
    "\n",
    "gandalf = ['Fireball', 'Lightning bolt', 'Lightning bolt', 'Magic arrow', 'Fireball', \n",
    "           'Magic arrow', 'Lightning bolt', 'Fireball', 'Fireball', 'Fireball']\n",
    "saruman = ['Contagion', 'Contagion', 'Black Tentacles', 'Fireball', 'Black Tentacles', \n",
    "           'Lightning bolt', 'Magic arrow', 'Contagion', 'Magic arrow', 'Magic arrow']\n",
    "spells = 0\n",
    "\n",
    "gandalf_wins = 0 \n",
    "saruman_wins = 0\n",
    "\n",
    "gandalf_power = []\n",
    "saruman_power = []\n",
    "\n",
    "for win in gandalf:\n",
    "    if POWER[gandalf[spells]] == POWER[saruman[spells]]:\n",
    "        gandalf_wins = 0\n",
    "        saruman_wins = 0\n",
    "        \n",
    "    elif POWER[gandalf[spells]] > POWER[saruman[spells]]:\n",
    "        gandalf_wins = 1\n",
    "        saruman_wins = 0\n",
    "        \n",
    "    else:\n",
    "        gandalf_wins = 0\n",
    "        saruman_wins = 1\n",
    "        \n",
    "    spells += 1\n",
    "    gandalf_power.append(gandalf_wins)\n",
    "    saruman_power.append(saruman_wins)        \n",
    "sum(gandalf_power)\n",
    "sum(saruman_power)\n",
    "        \n",
    "    \n",
    "\n",
    "print(gandalf_power)\n",
    "print(saruman_power)"
   ]
  },
  {
   "cell_type": "code",
   "execution_count": 104,
   "metadata": {},
   "outputs": [
    {
     "name": "stdout",
     "output_type": "stream",
     "text": [
      "gandalf won 7 times\n",
      "saruman won 3 times\n",
      "gandalf won\n",
      "gandalf won\n",
      "gandalf won\n",
      "gandalf won\n",
      "gandalf won\n",
      "gandalf won\n",
      "gandalf won\n",
      "gandalf won\n",
      "gandalf won\n",
      "gandalf won\n"
     ]
    }
   ],
   "source": [
    "POWER = {\n",
    "    'Fireball': 50, \n",
    "    'Lightning bolt': 40, \n",
    "    'Magic arrow': 10, \n",
    "    'Black Tentacles': 25, \n",
    "    'Contagion': 45\n",
    "}\n",
    "\n",
    "gandalf = ['Fireball', 'Lightning bolt', 'Lightning bolt', 'Magic arrow', 'Fireball', \n",
    "           'Magic arrow', 'Lightning bolt', 'Fireball', 'Fireball', 'Fireball']\n",
    "saruman = ['Contagion', 'Contagion', 'Black Tentacles', 'Fireball', 'Black Tentacles', \n",
    "           'Lightning bolt', 'Magic arrow', 'Contagion', 'Magic arrow', 'Magic arrow']\n",
    "spells = 0\n",
    "\n",
    "gandalf_wins = 0 \n",
    "saruman_wins = 0\n",
    "\n",
    "gandalf_power = []\n",
    "saruman_power = []\n",
    "\n",
    "for win in gandalf:\n",
    "    if POWER[gandalf[spells]] == POWER[saruman[spells]]:\n",
    "        gandalf_wins = 0\n",
    "        saruman_wins = 0\n",
    "        \n",
    "    elif POWER[gandalf[spells]] > POWER[saruman[spells]]:\n",
    "        gandalf_wins = 1\n",
    "        saruman_wins = 0\n",
    "        \n",
    "    else:\n",
    "        gandalf_wins = 0\n",
    "        saruman_wins = 1\n",
    "        \n",
    "    spells += 1\n",
    "    gandalf_power.append(gandalf_wins)\n",
    "    saruman_power.append(saruman_wins)        \n",
    "print('gandalf won', sum(gandalf_power), 'times')\n",
    "print('saruman won', sum(saruman_power), 'times')\n",
    "\n",
    "for power in gandalf_power:\n",
    "    if (gandalf_power) > (saruman_power):\n",
    "        print('gandalf won')\n",
    "    elif (gandalf_power) == (saruman_power):\n",
    "        print(\"it's a tie\")   \n",
    "    else:\n",
    "        print('saruman won')"
   ]
  },
  {
   "cell_type": "code",
   "execution_count": 107,
   "metadata": {},
   "outputs": [
    {
     "name": "stdout",
     "output_type": "stream",
     "text": [
      "Average wins for gandalf is 70.0 /10\n",
      "Average wins for saruman is 30.0 /10\n"
     ]
    }
   ],
   "source": [
    "print('Average wins for gandalf is', (sum(gandalf_power)/len(gandalf_power))*100, '/10')\n",
    "print('Average wins for saruman is', (sum(saruman_power)/len(saruman_power))*100, '/10')"
   ]
  },
  {
   "cell_type": "code",
   "execution_count": 113,
   "metadata": {},
   "outputs": [
    {
     "name": "stdout",
     "output_type": "stream",
     "text": [
      "Standard deviation of the spell power of gandalf is 0.48304589153964794\n",
      "Standard deviation of the spell power of saruman is 0.48304589153964794\n"
     ]
    }
   ],
   "source": [
    "gandalf_power2 = [1, 0, 1, 0, 1, 0, 1, 1, 1, 1]\n",
    "saruman_power2 = [0, 1, 0, 1, 0, 1, 0, 0, 0, 0]\n",
    "\n",
    "import statistics\n",
    "print('Standard deviation of the spell power of gandalf is' ,statistics.stdev(gandalf_power2))\n",
    "print('Standard deviation of the spell power of saruman is' ,statistics.stdev(saruman_power2))\n",
    "#it's not working, I need more explanation on this command line"
   ]
  },
  {
   "cell_type": "code",
   "execution_count": null,
   "metadata": {},
   "outputs": [],
   "source": []
  }
 ],
 "metadata": {
  "kernelspec": {
   "display_name": "Python 3",
   "language": "python",
   "name": "python3"
  },
  "language_info": {
   "codemirror_mode": {
    "name": "ipython",
    "version": 3
   },
   "file_extension": ".py",
   "mimetype": "text/x-python",
   "name": "python",
   "nbconvert_exporter": "python",
   "pygments_lexer": "ipython3",
   "version": "3.7.4"
  }
 },
 "nbformat": 4,
 "nbformat_minor": 2
}
