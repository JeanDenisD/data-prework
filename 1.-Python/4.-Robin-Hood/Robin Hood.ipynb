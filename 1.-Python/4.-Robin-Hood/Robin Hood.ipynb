{
 "cells": [
  {
   "cell_type": "code",
   "execution_count": 74,
   "metadata": {},
   "outputs": [],
   "source": [
    "points = [(4, 5), (-0, 2), (4, 7), (1, -3), (3, -2), (4, 5), (3, 2), (5, 7), (-5, 7), (2, 2), (-4, 5), (0, -2),\n",
    "          (-4, 7), (-1, 3), (-3, 2), (-4, -5), (-3, 2), (5, 7), (5, 7), (2, 2), (9, 9), (-8, -9)]"
   ]
  },
  {
   "cell_type": "code",
   "execution_count": 75,
   "metadata": {},
   "outputs": [
    {
     "name": "stdout",
     "output_type": "stream",
     "text": [
      "{(4, 5), (5, 7), (-3, 2), (2, 2)}\n"
     ]
    }
   ],
   "source": [
    "hit = []\n",
    "\n",
    "for h in points:\n",
    "    if points.count(h) > 1:\n",
    "        hit.append(h)\n",
    "    \n",
    "print(set(hit))"
   ]
  },
  {
   "cell_type": "code",
   "execution_count": 76,
   "metadata": {},
   "outputs": [
    {
     "name": "stdout",
     "output_type": "stream",
     "text": [
      "Number of arrow(s) in Q1 is  10\n",
      "Number of arrow(s) in Q2 is  2\n",
      "Number of arrow(s) in Q3 is  6\n",
      "Number of arrow(s) in Q4 is  2\n",
      "There were 2 arrow(s) in the middle of the target (doesn't belong to any quadrant)\n"
     ]
    }
   ],
   "source": [
    "q = []\n",
    "z = []\n",
    "\n",
    "for x , y in points:\n",
    "    if x > 0 and y > 0:\n",
    "        q.append(1)\n",
    "    elif x > 0 and y < 0:\n",
    "        q.append(2)\n",
    "    elif x < 0 and y > 0:\n",
    "        q.append(3)\n",
    "    elif x or y == 0:\n",
    "        q.append(z)\n",
    "    else:\n",
    "        q.append(4)\n",
    "        \n",
    "        \n",
    "print('Number of arrow(s) in Q1 is ', q.count(1))\n",
    "print('Number of arrow(s) in Q2 is ',q.count(2))\n",
    "print('Number of arrow(s) in Q3 is ',q.count(3))\n",
    "print('Number of arrow(s) in Q4 is ',q.count(4))\n",
    "print('There were', q.count(z), \"arrow(s) in the middle of the target (doesn't belong to any quadrant)\")"
   ]
  },
  {
   "cell_type": "code",
   "execution_count": 77,
   "metadata": {},
   "outputs": [
    {
     "name": "stdout",
     "output_type": "stream",
     "text": [
      "this answer is not from me, I got help from luka, thanks to him\n",
      "the following points where the closest:\n",
      "(0, 2)\n",
      "(0, -2)\n",
      "they hit at a distance of 2.0\n",
      "2 of the arrows where the closest\n"
     ]
    }
   ],
   "source": [
    "print('this answer is not from me, I got help from luka, thanks to him')\n",
    "\n",
    "euclid_dist = []\n",
    "min_points = []\n",
    "i = 0\n",
    "\n",
    "for x , y in points:\n",
    "    euclid_dist.append((x**2 + y**2)**0.5)\n",
    "\n",
    "min_points = [i for i, n in enumerate(euclid_dist) if n == min(euclid_dist)]\n",
    "\n",
    "print('the following points where the closest:')\n",
    "for i in min_points:\n",
    "    print(points[i])\n",
    "      \n",
    "print('they hit at a distance of', min(euclid_dist))\n",
    "print(euclid_dist.count(min(euclid_dist)), 'of the arrows where the closest') #number\n"
   ]
  },
  {
   "cell_type": "code",
   "execution_count": 105,
   "metadata": {},
   "outputs": [
    {
     "name": "stdout",
     "output_type": "stream",
     "text": [
      "2 arrow(s) won't hit the target\n"
     ]
    }
   ],
   "source": [
    "out_of_target = []\n",
    "o =[]\n",
    "\n",
    "for x , y in points:\n",
    "    if x or y == 9:\n",
    "        out_of_target.append(o)\n",
    "\n",
    "print((len(points)-(len(out_of_target))), \"arrow(s) won't hit the target\")\n"
   ]
  }
 ],
 "metadata": {
  "kernelspec": {
   "display_name": "Python 3",
   "language": "python",
   "name": "python3"
  },
  "language_info": {
   "codemirror_mode": {
    "name": "ipython",
    "version": 3
   },
   "file_extension": ".py",
   "mimetype": "text/x-python",
   "name": "python",
   "nbconvert_exporter": "python",
   "pygments_lexer": "ipython3",
   "version": "3.7.4"
  }
 },
 "nbformat": 4,
 "nbformat_minor": 2
}
