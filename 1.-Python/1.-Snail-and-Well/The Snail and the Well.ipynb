{
 "cells": [
  {
   "cell_type": "code",
   "execution_count": 84,
   "metadata": {},
   "outputs": [],
   "source": [
    "well_height = 125\n",
    "daily_distance = 30\n",
    "nightly_distance = 20\n",
    "snail_escaped = True"
   ]
  },
  {
   "cell_type": "code",
   "execution_count": 85,
   "metadata": {},
   "outputs": [],
   "source": [
    "days = 0\n",
    "distance_done = 0\n",
    "snail_position = daily_distance - nightly_distance"
   ]
  },
  {
   "cell_type": "code",
   "execution_count": 86,
   "metadata": {},
   "outputs": [
    {
     "name": "stdout",
     "output_type": "stream",
     "text": [
      "1\n",
      "2\n",
      "3\n",
      "4\n",
      "5\n",
      "6\n",
      "7\n",
      "8\n",
      "9\n",
      "10\n",
      "11\n",
      "12\n",
      "13\n"
     ]
    }
   ],
   "source": [
    "while snail_escaped:\n",
    "   distance_done += snail_position\n",
    "   days += 1\n",
    "   print(days)\n",
    "   if distance_done >= well_height:\n",
    "      snail_escaped = False"
   ]
  },
  {
   "cell_type": "code",
   "execution_count": 87,
   "metadata": {},
   "outputs": [
    {
     "name": "stdout",
     "output_type": "stream",
     "text": [
      "The snail escaped in 13 days\n"
     ]
    }
   ],
   "source": [
    "print(\"The snail escaped in\", days, \"days\")"
   ]
  },
  {
   "cell_type": "code",
   "execution_count": 131,
   "metadata": {},
   "outputs": [
    {
     "name": "stdout",
     "output_type": "stream",
     "text": [
      "on day 1 the snail climb to 10 cm\n",
      "on day 2 the snail climb to 11 cm\n",
      "on day 3 the snail climb to 24 cm\n",
      "on day 4 the snail climb to 81 cm\n",
      "on day 5 the snail climb to 105 cm\n",
      "on day 6 the snail climb to 130 cm\n",
      "on day 6 the snail is out!\n"
     ]
    }
   ],
   "source": [
    "# Bonus\n",
    "well_height = 125\n",
    "advance_cm = [30, 21, 33, 77, 44, 45, 23, 45, 12, 34, 55]\n",
    "nightly_distance = (-20)\n",
    "days = 0\n",
    "snail_position = 0\n",
    "\n",
    "while snail_position <= well_height:\n",
    "    days += 1\n",
    "    snail_position += (advance_cm [days -1] + nightly_distance)\n",
    "    print ('on day',days, 'the snail climb to', snail_position,'cm' )\n",
    "\n",
    "print('on day', days , 'the snail is out!')"
   ]
  },
  {
   "cell_type": "code",
   "execution_count": 142,
   "metadata": {},
   "outputs": [
    {
     "name": "stdout",
     "output_type": "stream",
     "text": [
      "[10, 1, 13, 57, 24, 25]\n",
      "The max distance made by the snail is 57 cm\n",
      "The min distance made by the snail is 1 cm\n"
     ]
    }
   ],
   "source": [
    "well_height = 125\n",
    "advance_cm = [30, 21, 33, 77, 44, 45, 23, 45, 12, 34, 55]\n",
    "nightly_distance = (-20)\n",
    "days = 0\n",
    "snail_position = 0\n",
    "daily_displacement = []\n",
    "\n",
    "while snail_position <= well_height:\n",
    "    days += 1\n",
    "    snail_position += (advance_cm [days -1] + nightly_distance)\n",
    "    daily_displacement.append(advance_cm [days -1] + nightly_distance)\n",
    "print(daily_displacement)   \n",
    "print('The max distance made by the snail is',max(daily_displacement),'cm')\n",
    "print('The min distance made by the snail is',min(daily_displacement),'cm')"
   ]
  },
  {
   "cell_type": "code",
   "execution_count": 158,
   "metadata": {},
   "outputs": [
    {
     "name": "stdout",
     "output_type": "stream",
     "text": [
      "The average distance made by the snail is 21.666666666666668 cm\n"
     ]
    }
   ],
   "source": [
    "average_displacement = sum(daily_displacement)/len(daily_displacement)\n",
    "print('The average distance made by the snail is',average_displacement,'cm')"
   ]
  },
  {
   "cell_type": "code",
   "execution_count": 159,
   "metadata": {},
   "outputs": [
    {
     "name": "stdout",
     "output_type": "stream",
     "text": [
      "The standard deviation of the snail is 19.510680835549195\n"
     ]
    }
   ],
   "source": [
    "import statistics\n",
    "print('The standard deviation of the snail is',statistics.stdev(daily_displacement))"
   ]
  },
  {
   "cell_type": "code",
   "execution_count": null,
   "metadata": {},
   "outputs": [],
   "source": []
  }
 ],
 "metadata": {
  "kernelspec": {
   "display_name": "Python 3",
   "language": "python",
   "name": "python3"
  },
  "language_info": {
   "codemirror_mode": {
    "name": "ipython",
    "version": 3
   },
   "file_extension": ".py",
   "mimetype": "text/x-python",
   "name": "python",
   "nbconvert_exporter": "python",
   "pygments_lexer": "ipython3",
   "version": "3.7.4"
  }
 },
 "nbformat": 4,
 "nbformat_minor": 2
}
