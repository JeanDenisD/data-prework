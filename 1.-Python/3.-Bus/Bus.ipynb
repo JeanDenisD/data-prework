{
 "cells": [
  {
   "cell_type": "code",
   "execution_count": 15,
   "metadata": {},
   "outputs": [],
   "source": [
    "#bus_stop = (in, out)\n",
    "#stops = [(in1, out1), (in2, out2), (in3, out3), (in4, out4)]\n",
    "stops = [(10, 0), (4, 1), (3, 5), (3, 4), (5, 1), (1, 5), (5, 8), (4, 6), (2, 3)]"
   ]
  },
  {
   "cell_type": "code",
   "execution_count": 16,
   "metadata": {},
   "outputs": [
    {
     "name": "stdout",
     "output_type": "stream",
     "text": [
      "The bus has 9 stops\n"
     ]
    }
   ],
   "source": [
    "print('The bus has',  len(stops), 'stops')"
   ]
  },
  {
   "cell_type": "code",
   "execution_count": 17,
   "metadata": {},
   "outputs": [
    {
     "name": "stdout",
     "output_type": "stream",
     "text": [
      "[10, 13, 11, 10, 14, 10, 7, 5, 4]\n"
     ]
    }
   ],
   "source": [
    "in_out = []\n",
    "ps_at_each_stop = []\n",
    "diff = 0\n",
    "\n",
    "for p_in, p_out in stops:\n",
    "    in_out.append(p_in - p_out)\n",
    "    \n",
    "for p in in_out:\n",
    "    diff += p\n",
    "    ps_at_each_stop.append(diff)\n",
    "\n",
    "print(ps_at_each_stop)"
   ]
  },
  {
   "cell_type": "code",
   "execution_count": 18,
   "metadata": {},
   "outputs": [
    {
     "name": "stdout",
     "output_type": "stream",
     "text": [
      "The maximum occupation of the bus today is 14 passengers\n"
     ]
    }
   ],
   "source": [
    "print('The maximum occupation of the bus today is', max(ps_at_each_stop), 'passengers')"
   ]
  },
  {
   "cell_type": "code",
   "execution_count": 21,
   "metadata": {},
   "outputs": [
    {
     "name": "stdout",
     "output_type": "stream",
     "text": [
      "The average passengers in the bus is 9\n",
      "The standard deviation is 3.391164991562634\n"
     ]
    }
   ],
   "source": [
    "print('The average passengers in the bus is', round(sum(ps_at_each_stop)/len(ps_at_each_stop)))\n",
    "\n",
    "import statistics\n",
    "print('The standard deviation is',statistics.stdev(ps_at_each_stop))"
   ]
  },
  {
   "cell_type": "code",
   "execution_count": null,
   "metadata": {},
   "outputs": [],
   "source": []
  }
 ],
 "metadata": {
  "kernelspec": {
   "display_name": "Python 3",
   "language": "python",
   "name": "python3"
  },
  "language_info": {
   "codemirror_mode": {
    "name": "ipython",
    "version": 3
   },
   "file_extension": ".py",
   "mimetype": "text/x-python",
   "name": "python",
   "nbconvert_exporter": "python",
   "pygments_lexer": "ipython3",
   "version": "3.7.4"
  }
 },
 "nbformat": 4,
 "nbformat_minor": 2
}
