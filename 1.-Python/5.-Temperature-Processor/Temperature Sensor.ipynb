{
 "cells": [
  {
   "cell_type": "code",
   "execution_count": 33,
   "metadata": {},
   "outputs": [],
   "source": [
    "temperatures_C = [33, 66, 65, 0, 59, 60, 62, 64, 70, 76, 80, 81, 80, 83, 90, 79, 61, 53, 50, 49, 53, 48, 45, 39]"
   ]
  },
  {
   "cell_type": "code",
   "execution_count": 34,
   "metadata": {},
   "outputs": [
    {
     "name": "stdout",
     "output_type": "stream",
     "text": [
      "0\n"
     ]
    }
   ],
   "source": [
    "min_temp = min(temperatures_C)\n",
    "print(min_temp)"
   ]
  },
  {
   "cell_type": "code",
   "execution_count": 35,
   "metadata": {
    "scrolled": true
   },
   "outputs": [
    {
     "name": "stdout",
     "output_type": "stream",
     "text": [
      "90\n"
     ]
    }
   ],
   "source": [
    "max_temp = max(temperatures_C)\n",
    "print(max_temp)"
   ]
  },
  {
   "cell_type": "code",
   "execution_count": 43,
   "metadata": {},
   "outputs": [
    {
     "name": "stdout",
     "output_type": "stream",
     "text": [
      "{70, 76, 79, 80, 81, 83, 90}\n"
     ]
    }
   ],
   "source": [
    "max_70 = []\n",
    "\n",
    "for hot in temperatures_C:\n",
    "    if hot >= 70:\n",
    "        max_70.append(hot)\n",
    "    \n",
    "print(set(max_70))"
   ]
  },
  {
   "cell_type": "code",
   "execution_count": 37,
   "metadata": {},
   "outputs": [
    {
     "name": "stdout",
     "output_type": "stream",
     "text": [
      "60.25\n"
     ]
    }
   ],
   "source": [
    "ave_temp_day = sum(temperatures_C)/len(temperatures_C)\n",
    "print(ave_temp_day)"
   ]
  },
  {
   "cell_type": "code",
   "execution_count": 38,
   "metadata": {},
   "outputs": [
    {
     "name": "stdout",
     "output_type": "stream",
     "text": [
      "62.0\n"
     ]
    }
   ],
   "source": [
    "missing_temp = ((temperatures_C[2]+temperatures_C[4])/2)\n",
    "temperatures_C[3] =  missing_temp\n",
    "\n",
    "print(missing_temp)"
   ]
  },
  {
   "cell_type": "code",
   "execution_count": 39,
   "metadata": {},
   "outputs": [
    {
     "name": "stdout",
     "output_type": "stream",
     "text": [
      "[91, 150, 149, 143, 138, 140, 143, 147, 158, 168, 176, 177, 176, 181, 194, 174, 141, 127, 122, 120, 127, 118, 113, 102]\n"
     ]
    }
   ],
   "source": [
    "temperatures_F = []\n",
    "\n",
    "for t in temperatures_C:\n",
    "    t = 1.8* t +32\n",
    "    temperatures_F.append(int(t))\n",
    "\n",
    "    \n",
    "print(temperatures_F)"
   ]
  },
  {
   "cell_type": "code",
   "execution_count": 41,
   "metadata": {},
   "outputs": [
    {
     "name": "stdout",
     "output_type": "stream",
     "text": [
      "Danger : The cooling system need to be change\n"
     ]
    }
   ],
   "source": [
    "fan_ok = ('All good, The cooling system is ok')\n",
    "fan_danger = ('Danger : The cooling system need to be change')\n",
    "\n",
    "if len(max_70) > 4:\n",
    "    print(fan_danger)\n",
    "elif max_temp > 80:\n",
    "    print(fan_danger)\n",
    "elif ave_temp_day > 65:\n",
    "    print(fan_danger)\n",
    "else:\n",
    "    print(fan_ok)\n"
   ]
  },
  {
   "cell_type": "code",
   "execution_count": 44,
   "metadata": {},
   "outputs": [
    {
     "name": "stdout",
     "output_type": "stream",
     "text": [
      "{70, 76, 79, 80, 81, 83, 90}\n"
     ]
    }
   ],
   "source": [
    "thigher_70 = []\n",
    "\n",
    "for h in temperatures_C:\n",
    "    if h >=70:\n",
    "        thigher_70.append(h)\n",
    "    \n",
    "print(set(thigher_70))"
   ]
  },
  {
   "cell_type": "code",
   "execution_count": null,
   "metadata": {},
   "outputs": [],
   "source": []
  }
 ],
 "metadata": {
  "kernelspec": {
   "display_name": "Python 3",
   "language": "python",
   "name": "python3"
  },
  "language_info": {
   "codemirror_mode": {
    "name": "ipython",
    "version": 3
   },
   "file_extension": ".py",
   "mimetype": "text/x-python",
   "name": "python",
   "nbconvert_exporter": "python",
   "pygments_lexer": "ipython3",
   "version": "3.7.4"
  }
 },
 "nbformat": 4,
 "nbformat_minor": 2
}
